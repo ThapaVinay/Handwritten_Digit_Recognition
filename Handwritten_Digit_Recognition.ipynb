{
  "nbformat": 4,
  "nbformat_minor": 0,
  "metadata": {
    "colab": {
      "provenance": [],
      "mount_file_id": "1AShtJeN7tFdRg_SstdwX6pe42hRO1azO",
      "authorship_tag": "ABX9TyPATA79Jt6FlCBF7RxuQn76",
      "include_colab_link": true
    },
    "kernelspec": {
      "name": "python3",
      "display_name": "Python 3"
    },
    "language_info": {
      "name": "python"
    }
  },
  "cells": [
    {
      "cell_type": "markdown",
      "metadata": {
        "id": "view-in-github",
        "colab_type": "text"
      },
      "source": [
        "<a href=\"https://colab.research.google.com/github/ThapaVinay/Handwritten_Digit_Recognition/blob/main/Handwritten_Digit_Recognition.ipynb\" target=\"_parent\"><img src=\"https://colab.research.google.com/assets/colab-badge.svg\" alt=\"Open In Colab\"/></a>"
      ]
    },
    {
      "cell_type": "code",
      "execution_count": 1,
      "metadata": {
        "id": "5lLqq5zMsRIK"
      },
      "outputs": [],
      "source": [
        "import numpy as np\n",
        "import matplotlib.pyplot as plt\n",
        "import random"
      ]
    },
    {
      "cell_type": "code",
      "source": [
        "# getting the data from the google drive\n",
        "\n",
        "X_train = np.loadtxt('/content/drive/MyDrive/Handwriting digit recognition/train_X.csv', delimiter=',').T\n",
        "Y_train = np.loadtxt('/content/drive/MyDrive/Handwriting digit recognition/train_label.csv', delimiter=',').T\n",
        "\n",
        "X_test = np.loadtxt('/content/drive/MyDrive/Handwriting digit recognition/test_X.csv', delimiter=',').T\n",
        "Y_test = np.loadtxt('/content/drive/MyDrive/Handwriting digit recognition/test_label.csv', delimiter=',').T"
      ],
      "metadata": {
        "id": "D3BAKG4K41Q1"
      },
      "execution_count": 2,
      "outputs": []
    },
    {
      "cell_type": "code",
      "source": [
        "print(\"Shape of X_train :\", X_train.shape)  # 28 * 28 pixels as input\n",
        "print(\"Shape of Y_train :\", Y_train.shape)\n",
        "print(\"Shape of X_test :\", X_test.shape)\n",
        "print(\"Shape of Y_test :\", Y_test.shape)"
      ],
      "metadata": {
        "colab": {
          "base_uri": "https://localhost:8080/"
        },
        "id": "X1LpYiTl5Cc-",
        "outputId": "88c3fa93-76e8-41e5-8ef1-41bc3d12f0de"
      },
      "execution_count": 3,
      "outputs": [
        {
          "output_type": "stream",
          "name": "stdout",
          "text": [
            "Shape of X_train : (784, 1000)\n",
            "Shape of Y_train : (10, 1000)\n",
            "Shape of X_test : (784, 350)\n",
            "Shape of Y_test : (10, 350)\n"
          ]
        }
      ]
    },
    {
      "cell_type": "code",
      "source": [
        "index = random.randrange(0, X_train.shape[1])\n",
        "plt.figure(figsize=(3, 3))  # value is in inches\n",
        "plt.imshow(X_train[:, index].reshape(28, 28), cmap='gray')  # convert the vector to 28*28 pixel values\n",
        "plt.show()\n"
      ],
      "metadata": {
        "colab": {
          "base_uri": "https://localhost:8080/",
          "height": 293
        },
        "id": "Y_7xLCzG_ao8",
        "outputId": "a76e5578-c122-4208-c5bb-7fed8ccb0ec4"
      },
      "execution_count": 4,
      "outputs": [
        {
          "output_type": "display_data",
          "data": {
            "text/plain": [
              "<Figure size 300x300 with 1 Axes>"
            ],
            "image/png": "[encoded data removed]"
          },
          "metadata": {}
        }
      ]
    },
    {
      "cell_type": "markdown",
      "source": [
        "\n",
        "## Initialize parameters Randomly\n",
        "$ W_1 = np.random.randn(n_1, n_0) $\n",
        "\n",
        "$ b_1 = np.zeros((n_1, 1))$\n",
        "\n",
        "$ W_2 = np.random.randn(n_2, n_1) $\n",
        "\n",
        "$ b_2 = np.zeros((n_2, 1))$\n",
        "\n",
        "\n",
        "## *Repeat Below Steps for many times : *\n",
        "\n",
        "\n",
        "## Forward Propagation\n",
        "\n",
        "$ Z_1 = W_1 * X + B_1 $\n",
        "\n",
        "$ A_1 = f ( Z_1 ) $  \n",
        "\n",
        "$ Z_2 = W2 * A_1 + B_2 $\n",
        "\n",
        "$ A_2 = Softmax( Z_2 ) $\n",
        "\n",
        "## Softmax\n",
        "\n",
        "$ a_i = \\frac{e^{z_i}}{\\sum_{i=k}^ne^{z_k}}$\n",
        "\n",
        "\n",
        "## Cost Function\n",
        "\n",
        "$Loss = - \\sum_{i=k}^{n}[ y_k*log(a_k) ]$\n",
        "\n",
        "$Cost = - \\frac{1}{m}\\sum_{i=1}^{m}\\sum_{k=1}^{n}[ y_k*log(a_k) ]$\n",
        "\n",
        "\n",
        "\n",
        "## Backward Propagation\n",
        "$dZ_2 = ( A_2 - Y )$\n",
        "\n",
        "$ dW_2 = \\frac{1}{m}. dZ_2 . A_1^T$\n",
        "\n",
        "$ dB_2 = \\frac{1}{m}.sum(dZ_2, 1)$\n",
        "\n",
        "\n",
        "\n",
        "$dZ_1 = W_2^T . dZ_2 * f_1^|(Z_1) $\n",
        "\n",
        "$dW_1 = \\frac{1}{m}.dZ_1.X^T$\n",
        "\n",
        "$dB_1 = \\frac{1}{m}.sum(dZ_1, 1)$\n",
        "\n",
        "\n",
        "## Updating Parameters\n",
        "\n",
        "$ W_2 = W_2 -  \\alpha * \\frac{\\partial Cost }{\\partial W_2}$\n",
        "\n",
        "$ B_2 = B_2 -  \\alpha * \\frac{\\partial Cost }{\\partial B_2}$\n",
        "\n",
        "$ W_1 = W_1 -  \\alpha * \\frac{\\partial Cost }{\\partial W_1}$\n",
        "\n",
        "$ B_1 = B_1 -  \\alpha * \\frac{\\partial Cost }{\\partial B_1}$\n"
      ],
      "metadata": {
        "id": "EQauVROsMuq4"
      }
    },
    {
      "cell_type": "code",
      "source": [
        "def tanh(x):\n",
        "  return np.tanh(x)\n",
        "\n",
        "def relu(x):\n",
        "  return np.maximum(0,x)\n",
        "\n",
        "def softmax(x):\n",
        "  expX = np.exp(x)\n",
        "  return expX/np.sum(expX)"
      ],
      "metadata": {
        "id": "Y9gvzR_dMwVp"
      },
      "execution_count": 5,
      "outputs": []
    },
    {
      "cell_type": "code",
      "source": [
        "def derivative_tanh(x):\n",
        "  return (1 - np.power(x,2))\n",
        "\n",
        "def derivative_relu(x):\n",
        "  return np.array(x > 0, dtype=np.float32)\n",
        "\n"
      ],
      "metadata": {
        "id": "Si693mxDN2GA"
      },
      "execution_count": 6,
      "outputs": []
    },
    {
      "cell_type": "markdown",
      "source": [
        "# Initialise Parameters"
      ],
      "metadata": {
        "id": "Pq2qPQFVfsTq"
      }
    },
    {
      "cell_type": "code",
      "source": [
        "def initialse_parameters(n_x, n_h, n_y):\n",
        "  w1 = np.random.randn(n_h, n_x)*0.01\n",
        "  b1 = np.zeroes(n_h,1)\n",
        "\n",
        "  w2 = np.random.randn(n_y, n_h)*0.01\n",
        "  b2 = np.zeroes(n_y,1)\n",
        "\n",
        "  parameters = {\n",
        "      \"w1\" : w1,\n",
        "      \"b1\" : b1,\n",
        "      \"w2\" : w2,\n",
        "      \"b2\" : b2,\n",
        "  }\n",
        "\n",
        "  return parameters"
      ],
      "metadata": {
        "id": "ZjhofeorfwAu"
      },
      "execution_count": 8,
      "outputs": []
    },
    {
      "cell_type": "markdown",
      "source": [
        "# Forward propagation"
      ],
      "metadata": {
        "id": "gvbucZGG-2_p"
      }
    },
    {
      "cell_type": "code",
      "source": [
        "def forward_propagation(x, parameters):\n",
        "  w1 = parameters['w1']\n",
        "  b1 = parameters['b1']\n",
        "\n",
        "  w2 = parameters['w2']\n",
        "  b2 = parameters['b2']\n",
        "\n",
        "  z1 = np.dot(w1, x) + b1\n",
        "  a1 = relu(z1)\n",
        "\n",
        "  z2 = np.dot(w2, a1) + b2\n",
        "  a2 = softmax(z2)\n",
        "\n",
        "  forward_cache = {\n",
        "      'z1' : z1,\n",
        "      'a1' : a1,\n",
        "      'z2' : z2,\n",
        "      'a2' : a2\n",
        "  }\n",
        "  return forward_cache"
      ],
      "metadata": {
        "id": "3OvSHEOXgIiw"
      },
      "execution_count": 7,
      "outputs": []
    }
  ]
}