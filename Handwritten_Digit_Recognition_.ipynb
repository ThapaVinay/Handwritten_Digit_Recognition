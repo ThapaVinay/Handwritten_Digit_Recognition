{
  "nbformat": 4,
  "nbformat_minor": 0,
  "metadata": {
    "colab": {
      "provenance": [],
      "mount_file_id": "1AShtJeN7tFdRg_SstdwX6pe42hRO1azO",
      "authorship_tag": "ABX9TyO6gIKksCqNVkhLc6Ib5gtc",
      "include_colab_link": true
    },
    "kernelspec": {
      "name": "python3",
      "display_name": "Python 3"
    },
    "language_info": {
      "name": "python"
    }
  },
  "cells": [
    {
      "cell_type": "markdown",
      "metadata": {
        "id": "view-in-github",
        "colab_type": "text"
      },
      "source": [
        "<a href=\"https://colab.research.google.com/github/ThapaVinay/Handwritten_Digit_Recognition/blob/main/Handwritten_Digit_Recognition_.ipynb\" target=\"_parent\"><img src=\"https://colab.research.google.com/assets/colab-badge.svg\" alt=\"Open In Colab\"/></a>"
      ]
    },
    {
      "cell_type": "code",
      "execution_count": 1,
      "metadata": {
        "id": "5lLqq5zMsRIK"
      },
      "outputs": [],
      "source": [
        "import numpy as np\n",
        "import matplotlib.pyplot as plt\n",
        "import random"
      ]
    },
    {
      "cell_type": "code",
      "source": [
        "# getting the data from the google drive\n",
        "\n",
        "X_train = np.loadtxt('/content/drive/MyDrive/Handwriting digit recognition/train_X.csv', delimiter=',').T\n",
        "Y_train = np.loadtxt('/content/drive/MyDrive/Handwriting digit recognition/train_label.csv', delimiter=',').T\n",
        "\n",
        "X_test = np.loadtxt('/content/drive/MyDrive/Handwriting digit recognition/test_X.csv', delimiter=',').T\n",
        "Y_test = np.loadtxt('/content/drive/MyDrive/Handwriting digit recognition/test_label.csv', delimiter=',').T"
      ],
      "metadata": {
        "id": "D3BAKG4K41Q1"
      },
      "execution_count": 2,
      "outputs": []
    },
    {
      "cell_type": "code",
      "source": [
        "print(\"Shape of X_train :\", X_train.shape)  # 28 * 28 pixels as input\n",
        "print(\"Shape of Y_train :\", Y_train.shape)\n",
        "print(\"Shape of X_test :\", X_test.shape)\n",
        "print(\"Shape of Y_test :\", Y_test.shape)"
      ],
      "metadata": {
        "colab": {
          "base_uri": "https://localhost:8080/"
        },
        "id": "X1LpYiTl5Cc-",
        "outputId": "23ff5fc8-0284-4f13-a989-a9e6d5a1f8cc"
      },
      "execution_count": 3,
      "outputs": [
        {
          "output_type": "stream",
          "name": "stdout",
          "text": [
            "Shape of X_train : (784, 1000)\n",
            "Shape of Y_train : (10, 1000)\n",
            "Shape of X_test : (784, 350)\n",
            "Shape of Y_test : (10, 350)\n"
          ]
        }
      ]
    },
    {
      "cell_type": "code",
      "source": [
        "index = random.randrange(0, X_train.shape[1])\n",
        "plt.figure(figsize=(3, 3))  # value is in inches\n",
        "plt.imshow(X_train[:, index].reshape(28, 28), cmap='gray')  # convert the vector to 28*28 pixel values\n",
        "plt.show()\n"
      ],
      "metadata": {
        "colab": {
          "base_uri": "https://localhost:8080/",
          "height": 293
        },
        "id": "Y_7xLCzG_ao8",
        "outputId": "6e8ca02f-068a-4f74-d0c5-30873f71c661"
      },
      "execution_count": 4,
      "outputs": [
        {
          "output_type": "display_data",
          "data": {
            "text/plain": [
              "<Figure size 300x300 with 1 Axes>"
            ],
            "image/png": "[encoded data removed]"
          },
          "metadata": {}
        }
      ]
    },
    {
      "cell_type": "markdown",
      "source": [
        "\n",
        "## Initialize parameters Randomly\n",
        "$ W_1 = np.random.randn(n_1, n_0) $\n",
        "\n",
        "$ b_1 = np.zeros((n_1, 1))$\n",
        "\n",
        "$ W_2 = np.random.randn(n_2, n_1) $\n",
        "\n",
        "$ b_2 = np.zeros((n_2, 1))$\n",
        "\n",
        "\n",
        "## *Repeat Below Steps for many times : *\n",
        "\n",
        "\n",
        "## Forward Propagation\n",
        "\n",
        "$ Z_1 = W_1 * X + B_1 $\n",
        "\n",
        "$ A_1 = f ( Z_1 ) $  \n",
        "\n",
        "$ Z_2 = W2 * A_1 + B_2 $\n",
        "\n",
        "$ A_2 = Softmax( Z_2 ) $\n",
        "\n",
        "## Softmax\n",
        "\n",
        "$ a_i = \\frac{e^{z_i}}{\\sum_{i=k}^ne^{z_k}}$\n",
        "\n",
        "\n",
        "## Cost Function\n",
        "\n",
        "$Loss = - \\sum_{i=k}^{n}[ y_k*log(a_k) ]$\n",
        "\n",
        "$Cost = - \\frac{1}{m}\\sum_{i=1}^{m}\\sum_{k=1}^{n}[ y_k*log(a_k) ]$\n",
        "\n",
        "\n",
        "\n",
        "## Backward Propagation\n",
        "$dZ_2 = ( A_2 - Y )$\n",
        "\n",
        "$ dW_2 = \\frac{1}{m}. dZ_2 . A_1^T$\n",
        "\n",
        "$ dB_2 = \\frac{1}{m}.sum(dZ_2, 1)$\n",
        "\n",
        "\n",
        "\n",
        "$dZ_1 = W_2^T . dZ_2 * f_1^|(Z_1) $\n",
        "\n",
        "$dW_1 = \\frac{1}{m}.dZ_1.X^T$\n",
        "\n",
        "$dB_1 = \\frac{1}{m}.sum(dZ_1, 1)$\n",
        "\n",
        "\n",
        "## Updating Parameters\n",
        "\n",
        "$ W_2 = W_2 -  \\alpha * \\frac{\\partial Cost }{\\partial W_2}$\n",
        "\n",
        "$ B_2 = B_2 -  \\alpha * \\frac{\\partial Cost }{\\partial B_2}$\n",
        "\n",
        "$ W_1 = W_1 -  \\alpha * \\frac{\\partial Cost }{\\partial W_1}$\n",
        "\n",
        "$ B_1 = B_1 -  \\alpha * \\frac{\\partial Cost }{\\partial B_1}$\n"
      ],
      "metadata": {
        "id": "EQauVROsMuq4"
      }
    },
    {
      "cell_type": "code",
      "source": [
        "def tanh(x):\n",
        "  return np.tanh(x)\n",
        "\n",
        "def relu(x):\n",
        "  return np.maximum(0,x)\n",
        "\n",
        "def softmax(x):\n",
        "  expX = np.exp(x)\n",
        "  return expX/np.sum(expX, axis  = 0)"
      ],
      "metadata": {
        "id": "Y9gvzR_dMwVp"
      },
      "execution_count": 5,
      "outputs": []
    },
    {
      "cell_type": "code",
      "source": [
        "def derivative_tanh(x):\n",
        "    return (1 - np.power(np.tanh(x), 2))\n",
        "\n",
        "def derivative_relu(x):\n",
        "    return np.array(x > 0, dtype = np.float32)\n",
        "\n"
      ],
      "metadata": {
        "id": "Si693mxDN2GA"
      },
      "execution_count": 6,
      "outputs": []
    },
    {
      "cell_type": "markdown",
      "source": [
        "# Initialise Parameters"
      ],
      "metadata": {
        "id": "Pq2qPQFVfsTq"
      }
    },
    {
      "cell_type": "code",
      "source": [
        "def initialize_parameters(n_x, n_h, n_y):\n",
        "  w1 = np.random.randn(n_h, n_x)*0.001\n",
        "  b1 = np.zeros((n_h,1))\n",
        "\n",
        "  w2 = np.random.randn(n_y, n_h)*0.001\n",
        "  b2 = np.zeros((n_y,1))\n",
        "\n",
        "  parameters = {\n",
        "      \"w1\" : w1,\n",
        "      \"b1\" : b1,\n",
        "      \"w2\" : w2,\n",
        "      \"b2\" : b2,\n",
        "  }\n",
        "\n",
        "  return parameters"
      ],
      "metadata": {
        "id": "ZjhofeorfwAu"
      },
      "execution_count": 18,
      "outputs": []
    },
    {
      "cell_type": "markdown",
      "source": [
        "# Forward propagation"
      ],
      "metadata": {
        "id": "gvbucZGG-2_p"
      }
    },
    {
      "cell_type": "code",
      "source": [
        "def forward_propagation(x, parameters):\n",
        "  w1 = parameters['w1']\n",
        "  b1 = parameters['b1']\n",
        "\n",
        "  w2 = parameters['w2']\n",
        "  b2 = parameters['b2']\n",
        "\n",
        "  z1 = np.dot(w1, x) + b1\n",
        "  a1 = relu(z1)\n",
        "\n",
        "  z2 = np.dot(w2, a1) + b2\n",
        "  a2 = softmax(z2)\n",
        "\n",
        "  forward_cache = {\n",
        "      'z1' : z1,\n",
        "      'a1' : a1,\n",
        "      'z2' : z2,\n",
        "      'a2' : a2\n",
        "  }\n",
        "  return forward_cache"
      ],
      "metadata": {
        "id": "3OvSHEOXgIiw"
      },
      "execution_count": 14,
      "outputs": []
    },
    {
      "cell_type": "code",
      "source": [
        "def cost_function(a2, y):\n",
        "  m = y.shape[1]\n",
        "\n",
        "  cost = -(1/m)*np.sum(y*np.log(a2))\n",
        "\n",
        "  # cost = -(1/m)*np.sum(np.sum(y*np.log(a2,0), 1))\n",
        "\n",
        "  return cost"
      ],
      "metadata": {
        "id": "aDbFwtbsCOF7"
      },
      "execution_count": 9,
      "outputs": []
    },
    {
      "cell_type": "markdown",
      "source": [
        "# Back Propagation"
      ],
      "metadata": {
        "id": "dNpOUCg5DGNj"
      }
    },
    {
      "cell_type": "code",
      "source": [
        "def backward_prop(x, y, parameters, forward_cache):\n",
        "\n",
        "    w1 = parameters['w1']\n",
        "    b1 = parameters['b1']\n",
        "    w2 = parameters['w2']\n",
        "    b2 = parameters['b2']\n",
        "\n",
        "    a1 = forward_cache['a1']\n",
        "    a2 = forward_cache['a2']\n",
        "\n",
        "    m = x.shape[1]\n",
        "\n",
        "    dz2 = (a2 - y)\n",
        "    dw2 = (1/m)*np.dot(dz2, a1.T)\n",
        "    db2 = (1/m)*np.sum(dz2, axis = 1, keepdims = True)\n",
        "\n",
        "    dz1 = (1/m)*np.dot(w2.T, dz2)*derivative_tanh(a1)\n",
        "    dw1 = (1/m)*np.dot(dz1, x.T)\n",
        "    db1 = (1/m)*np.sum(dz1, axis = 1, keepdims = True)\n",
        "\n",
        "    gradients = {\n",
        "        \"dw1\" : dw1,\n",
        "        \"db1\" : db1,\n",
        "        \"dw2\" : dw2,\n",
        "        \"db2\" : db2\n",
        "    }\n",
        "\n",
        "    return gradients"
      ],
      "metadata": {
        "id": "UXWpUFGiDFpG"
      },
      "execution_count": 10,
      "outputs": []
    },
    {
      "cell_type": "code",
      "source": [
        "def update_parameters(parameters, gradients, learning_rate):\n",
        "\n",
        "    w1 = parameters['w1']\n",
        "    b1 = parameters['b1']\n",
        "    w2 = parameters['w2']\n",
        "    b2 = parameters['b2']\n",
        "\n",
        "    dw1 = gradients['dw1']\n",
        "    db1 = gradients['db1']\n",
        "    dw2 = gradients['dw2']\n",
        "    db2 = gradients['db2']\n",
        "\n",
        "    w1 = w1 - learning_rate*dw1\n",
        "    b1 = b1 - learning_rate*db1\n",
        "    w2 = w2 - learning_rate*dw2\n",
        "    b2 = b2 - learning_rate*db2\n",
        "\n",
        "    parameters = {\n",
        "        \"w1\" : w1,\n",
        "        \"b1\" : b1,\n",
        "        \"w2\" : w2,\n",
        "        \"b2\" : b2\n",
        "    }\n",
        "\n",
        "    return parameters"
      ],
      "metadata": {
        "id": "pkhE5lTMGHEs"
      },
      "execution_count": 11,
      "outputs": []
    },
    {
      "cell_type": "markdown",
      "source": [
        "# Model"
      ],
      "metadata": {
        "id": "ib2w7UXoHrwK"
      }
    },
    {
      "cell_type": "code",
      "source": [
        "def model(x, y, n_h, learning_rate, iterations):\n",
        "\n",
        "    n_x = x.shape[0]\n",
        "    n_y = y.shape[0]\n",
        "\n",
        "    cost_list = []\n",
        "\n",
        "    parameters = initialize_parameters(n_x, n_h, n_y)\n",
        "\n",
        "    for i in range(iterations):\n",
        "\n",
        "        forward_cache = forward_propagation(x, parameters)\n",
        "\n",
        "        cost = cost_function(forward_cache['a2'], y)\n",
        "\n",
        "        gradients = backward_prop(x, y, parameters, forward_cache)\n",
        "\n",
        "        parameters = update_parameters(parameters, gradients, learning_rate)\n",
        "\n",
        "        cost_list.append(cost)\n",
        "\n",
        "        if(i%(iterations/10) == 0):\n",
        "            print(\"Cost after\", i, \"iterations is :\", cost)\n",
        "\n",
        "    return parameters, cost_list"
      ],
      "metadata": {
        "id": "-Pz3i-ECGRjU"
      },
      "execution_count": 12,
      "outputs": []
    },
    {
      "cell_type": "code",
      "source": [
        "iterations = 100\n",
        "n_h = 1000\n",
        "learning_rate = 0.03\n",
        "Parameters, Cost_list = model(X_train, Y_train, n_h = n_h, learning_rate = learning_rate, iterations = iterations)"
      ],
      "metadata": {
        "colab": {
          "base_uri": "https://localhost:8080/"
        },
        "id": "ojBsYt3FKkCM",
        "outputId": "468c761d-ede4-4e84-acef-5740e2f855a7"
      },
      "execution_count": 21,
      "outputs": [
        {
          "output_type": "stream",
          "name": "stdout",
          "text": [
            "Cost after 0 iterations is : 2.301828932695746\n",
            "Cost after 10 iterations is : 0.9034890195443273\n",
            "Cost after 20 iterations is : 0.5076503855833021\n",
            "Cost after 30 iterations is : 0.43191236891991575\n",
            "Cost after 40 iterations is : 0.39329151595505274\n",
            "Cost after 50 iterations is : 0.37126622968923245\n",
            "Cost after 60 iterations is : 0.3594939929875412\n",
            "Cost after 70 iterations is : 0.354951235594882\n",
            "Cost after 80 iterations is : 0.3563733460772969\n",
            "Cost after 90 iterations is : 0.36277749920619246\n"
          ]
        }
      ]
    },
    {
      "cell_type": "code",
      "source": [
        "t = np.arange(0, iterations)\n",
        "plt.plot(t, Cost_list)\n",
        "plt.show()"
      ],
      "metadata": {
        "colab": {
          "base_uri": "https://localhost:8080/",
          "height": 430
        },
        "id": "7g-zkp9eLHDK",
        "outputId": "3e1d6761-6010-406a-f653-d78ba79a2483"
      },
      "execution_count": 22,
      "outputs": [
        {
          "output_type": "display_data",
          "data": {
            "text/plain": [
              "<Figure size 640x480 with 1 Axes>"
            ],
            "image/png": "[encoded data removed]"
          },
          "metadata": {}
        }
      ]
    },
    {
      "cell_type": "code",
      "source": [
        "def accuracy(inp, labels, parameters):\n",
        "    forward_cache = forward_propagation(inp, parameters)\n",
        "    a_out = forward_cache['a2']   # containes propabilities with shape(10, 1)\n",
        "\n",
        "    a_out = np.argmax(a_out, 0)  # 0 represents row wise\n",
        "\n",
        "    labels = np.argmax(labels, 0)\n",
        "\n",
        "    acc = np.mean(a_out == labels)*100\n",
        "\n",
        "    return acc"
      ],
      "metadata": {
        "id": "17w1pH3jJ_iH"
      },
      "execution_count": 23,
      "outputs": []
    },
    {
      "cell_type": "code",
      "source": [
        "print(\"Accuracy of Train Dataset\", accuracy(X_train, Y_train, Parameters), \"%\")\n",
        "print(\"Accuracy of Test Dataset\", round(accuracy(X_test, Y_test, Parameters), 2), \"%\")"
      ],
      "metadata": {
        "colab": {
          "base_uri": "https://localhost:8080/"
        },
        "id": "mfyim0SpLW13",
        "outputId": "cfc0a2c5-ea7f-4ba4-b5ce-481cde722db6"
      },
      "execution_count": 24,
      "outputs": [
        {
          "output_type": "stream",
          "name": "stdout",
          "text": [
            "Accuracy of Train Dataset 94.6 %\n",
            "Accuracy of Test Dataset 87.14 %\n"
          ]
        }
      ]
    },
    {
      "cell_type": "code",
      "source": [
        "index = random.randrange(0, X_test.shape[1])\n",
        "plt.figure(figsize=(3, 3))  # value is in inches\n",
        "plt.imshow(X_test[:, index].reshape(28, 28), cmap='gray')  # convert the vector to 28*28 pixel values\n",
        "plt.show()\n",
        "\n",
        "forward_cache = forward_propagation(X_test[:, index].reshape(X_test[:, index].shape[0], 1), Parameters)\n",
        "a_pred = forward_cache['a2']\n",
        "a_pred = np.argmax(a_pred, 0)\n",
        "\n",
        "print(\"Our model says it is :\", a_pred[0])"
      ],
      "metadata": {
        "colab": {
          "base_uri": "https://localhost:8080/",
          "height": 311
        },
        "id": "dvobvz9bLhdj",
        "outputId": "4f1d27ca-fb32-43e2-e643-7e2b41cd0d89"
      },
      "execution_count": 51,
      "outputs": [
        {
          "output_type": "display_data",
          "data": {
            "text/plain": [
              "<Figure size 300x300 with 1 Axes>"
            ],
            "image/png": "[encoded data removed]"
          },
          "metadata": {}
        },
        {
          "output_type": "stream",
          "name": "stdout",
          "text": [
            "Our model says it is : 4\n"
          ]
        }
      ]
    },
    {
      "cell_type": "code",
      "source": [],
      "metadata": {
        "id": "Fo2xRQTKLugt"
      },
      "execution_count": 36,
      "outputs": []
    }
  ]
}